{
 "cells": [
  {
   "cell_type": "code",
   "execution_count": 24,
   "id": "d381f350",
   "metadata": {
    "executionInfo": {
     "elapsed": 330,
     "status": "ok",
     "timestamp": 1671191552332,
     "user": {
      "displayName": "wakalioa ndotch",
      "userId": "05739330914333704037"
     },
     "user_tz": 480
    },
    "id": "d381f350"
   },
   "outputs": [],
   "source": [
    "import pandas as pd\n",
    "import numpy as np \n",
    "from sklearn import svm\n",
    "import warnings\n",
    "from sklearn.model_selection import train_test_split\n",
    "from sklearn.feature_extraction.text import TfidfVectorizer\n",
    "from matplotlib import pyplot as plt\n",
    "from nltk.tokenize import RegexpTokenizer\n",
    "warnings.filterwarnings(\"ignore\")\n"
   ]
  },
  {
   "cell_type": "code",
   "execution_count": 25,
   "id": "fecd9cb4",
   "metadata": {
    "colab": {
     "base_uri": "https://localhost:8080/",
     "height": 380
    },
    "executionInfo": {
     "elapsed": 29,
     "status": "error",
     "timestamp": 1671191541942,
     "user": {
      "displayName": "wakalioa ndotch",
      "userId": "05739330914333704037"
     },
     "user_tz": 480
    },
    "id": "fecd9cb4",
    "outputId": "37f4c1fc-4dae-42f6-846e-4b6f42a15ba9"
   },
   "outputs": [
    {
     "data": {
      "text/html": [
       "<div>\n",
       "<style scoped>\n",
       "    .dataframe tbody tr th:only-of-type {\n",
       "        vertical-align: middle;\n",
       "    }\n",
       "\n",
       "    .dataframe tbody tr th {\n",
       "        vertical-align: top;\n",
       "    }\n",
       "\n",
       "    .dataframe thead th {\n",
       "        text-align: right;\n",
       "    }\n",
       "</style>\n",
       "<table border=\"1\" class=\"dataframe\">\n",
       "  <thead>\n",
       "    <tr style=\"text-align: right;\">\n",
       "      <th></th>\n",
       "      <th>id</th>\n",
       "      <th>comment_text</th>\n",
       "      <th>toxic</th>\n",
       "      <th>severe_toxic</th>\n",
       "      <th>obscene</th>\n",
       "      <th>threat</th>\n",
       "      <th>insult</th>\n",
       "      <th>identity_hate</th>\n",
       "    </tr>\n",
       "  </thead>\n",
       "  <tbody>\n",
       "    <tr>\n",
       "      <th>0</th>\n",
       "      <td>0000997932d777bf</td>\n",
       "      <td>Explanation\\nWhy the edits made under my usern...</td>\n",
       "      <td>0</td>\n",
       "      <td>0</td>\n",
       "      <td>0</td>\n",
       "      <td>0</td>\n",
       "      <td>0</td>\n",
       "      <td>0</td>\n",
       "    </tr>\n",
       "    <tr>\n",
       "      <th>1</th>\n",
       "      <td>000103f0d9cfb60f</td>\n",
       "      <td>D'aww! He matches this background colour I'm s...</td>\n",
       "      <td>0</td>\n",
       "      <td>0</td>\n",
       "      <td>0</td>\n",
       "      <td>0</td>\n",
       "      <td>0</td>\n",
       "      <td>0</td>\n",
       "    </tr>\n",
       "    <tr>\n",
       "      <th>2</th>\n",
       "      <td>000113f07ec002fd</td>\n",
       "      <td>Hey man, I'm really not trying to edit war. It...</td>\n",
       "      <td>0</td>\n",
       "      <td>0</td>\n",
       "      <td>0</td>\n",
       "      <td>0</td>\n",
       "      <td>0</td>\n",
       "      <td>0</td>\n",
       "    </tr>\n",
       "    <tr>\n",
       "      <th>3</th>\n",
       "      <td>0001b41b1c6bb37e</td>\n",
       "      <td>\"\\nMore\\nI can't make any real suggestions on ...</td>\n",
       "      <td>0</td>\n",
       "      <td>0</td>\n",
       "      <td>0</td>\n",
       "      <td>0</td>\n",
       "      <td>0</td>\n",
       "      <td>0</td>\n",
       "    </tr>\n",
       "    <tr>\n",
       "      <th>4</th>\n",
       "      <td>0001d958c54c6e35</td>\n",
       "      <td>You, sir, are my hero. Any chance you remember...</td>\n",
       "      <td>0</td>\n",
       "      <td>0</td>\n",
       "      <td>0</td>\n",
       "      <td>0</td>\n",
       "      <td>0</td>\n",
       "      <td>0</td>\n",
       "    </tr>\n",
       "  </tbody>\n",
       "</table>\n",
       "</div>"
      ],
      "text/plain": [
       "                 id                                       comment_text  toxic  \\\n",
       "0  0000997932d777bf  Explanation\\nWhy the edits made under my usern...      0   \n",
       "1  000103f0d9cfb60f  D'aww! He matches this background colour I'm s...      0   \n",
       "2  000113f07ec002fd  Hey man, I'm really not trying to edit war. It...      0   \n",
       "3  0001b41b1c6bb37e  \"\\nMore\\nI can't make any real suggestions on ...      0   \n",
       "4  0001d958c54c6e35  You, sir, are my hero. Any chance you remember...      0   \n",
       "\n",
       "   severe_toxic  obscene  threat  insult  identity_hate  \n",
       "0             0        0       0       0              0  \n",
       "1             0        0       0       0              0  \n",
       "2             0        0       0       0              0  \n",
       "3             0        0       0       0              0  \n",
       "4             0        0       0       0              0  "
      ]
     },
     "execution_count": 25,
     "metadata": {},
     "output_type": "execute_result"
    }
   ],
   "source": [
    "data=pd.read_csv(\"toxic_dataset.csv\")\n",
    "data.head(20)\n",
    "data.isnull().sum()\n",
    "data.head()"
   ]
  },
  {
   "cell_type": "code",
   "execution_count": 26,
   "id": "f4e2b7c4",
   "metadata": {
    "executionInfo": {
     "elapsed": 26,
     "status": "aborted",
     "timestamp": 1671191541944,
     "user": {
      "displayName": "wakalioa ndotch",
      "userId": "05739330914333704037"
     },
     "user_tz": 480
    },
    "id": "f4e2b7c4"
   },
   "outputs": [
    {
     "data": {
      "text/plain": [
       "Text(0.5, 1.0, 'graph for show the distribution of classes(Toxic column )')"
      ]
     },
     "execution_count": 26,
     "metadata": {},
     "output_type": "execute_result"
    },
    {
     "data": {
      "image/png": "[encoded data removed]",
      "text/plain": [
       "<Figure size 432x288 with 1 Axes>"
      ]
     },
     "metadata": {
      "needs_background": "light"
     },
     "output_type": "display_data"
    }
   ],
   "source": [
    "#plot to test whether this is an imbalanced dataset\n",
    "plt.hist(data[\"toxic\"])\n",
    "plt.title(\"graph for show the distribution of classes(Toxic column )\")"
   ]
  },
  {
   "cell_type": "code",
   "execution_count": 27,
   "id": "1310d823",
   "metadata": {
    "executionInfo": {
     "elapsed": 27,
     "status": "aborted",
     "timestamp": 1671191541946,
     "user": {
      "displayName": "wakalioa ndotch",
      "userId": "05739330914333704037"
     },
     "user_tz": 480
    },
    "id": "1310d823"
   },
   "outputs": [
    {
     "data": {
      "text/html": [
       "<div>\n",
       "<style scoped>\n",
       "    .dataframe tbody tr th:only-of-type {\n",
       "        vertical-align: middle;\n",
       "    }\n",
       "\n",
       "    .dataframe tbody tr th {\n",
       "        vertical-align: top;\n",
       "    }\n",
       "\n",
       "    .dataframe thead th {\n",
       "        text-align: right;\n",
       "    }\n",
       "</style>\n",
       "<table border=\"1\" class=\"dataframe\">\n",
       "  <thead>\n",
       "    <tr style=\"text-align: right;\">\n",
       "      <th></th>\n",
       "      <th>comment_text</th>\n",
       "      <th>toxic</th>\n",
       "    </tr>\n",
       "  </thead>\n",
       "  <tbody>\n",
       "    <tr>\n",
       "      <th>0</th>\n",
       "      <td>explanation\\nwhy the edits made under my usern...</td>\n",
       "      <td>0</td>\n",
       "    </tr>\n",
       "    <tr>\n",
       "      <th>1</th>\n",
       "      <td>d'aww! he matches this background colour i'm s...</td>\n",
       "      <td>0</td>\n",
       "    </tr>\n",
       "    <tr>\n",
       "      <th>2</th>\n",
       "      <td>hey man, i'm really not trying to edit war. it...</td>\n",
       "      <td>0</td>\n",
       "    </tr>\n",
       "    <tr>\n",
       "      <th>3</th>\n",
       "      <td>\"\\nmore\\ni can't make any real suggestions on ...</td>\n",
       "      <td>0</td>\n",
       "    </tr>\n",
       "    <tr>\n",
       "      <th>4</th>\n",
       "      <td>you, sir, are my hero. any chance you remember...</td>\n",
       "      <td>0</td>\n",
       "    </tr>\n",
       "  </tbody>\n",
       "</table>\n",
       "</div>"
      ],
      "text/plain": [
       "                                        comment_text  toxic\n",
       "0  explanation\\nwhy the edits made under my usern...      0\n",
       "1  d'aww! he matches this background colour i'm s...      0\n",
       "2  hey man, i'm really not trying to edit war. it...      0\n",
       "3  \"\\nmore\\ni can't make any real suggestions on ...      0\n",
       "4  you, sir, are my hero. any chance you remember...      0"
      ]
     },
     "execution_count": 27,
     "metadata": {},
     "output_type": "execute_result"
    }
   ],
   "source": [
    "#filtering columns\n",
    "new_data=data[[\"comment_text\",\"toxic\"]]\n",
    "\n",
    "new_data[\"comment_text\"]=new_data[\"comment_text\"].str.lower()\n",
    "new_data.head()"
   ]
  },
  {
   "cell_type": "code",
   "execution_count": 28,
   "id": "36da4445",
   "metadata": {
    "executionInfo": {
     "elapsed": 28,
     "status": "aborted",
     "timestamp": 1671191541947,
     "user": {
      "displayName": "wakalioa ndotch",
      "userId": "05739330914333704037"
     },
     "user_tz": 480
    },
    "id": "36da4445"
   },
   "outputs": [
    {
     "data": {
      "text/html": [
       "<div>\n",
       "<style scoped>\n",
       "    .dataframe tbody tr th:only-of-type {\n",
       "        vertical-align: middle;\n",
       "    }\n",
       "\n",
       "    .dataframe tbody tr th {\n",
       "        vertical-align: top;\n",
       "    }\n",
       "\n",
       "    .dataframe thead th {\n",
       "        text-align: right;\n",
       "    }\n",
       "</style>\n",
       "<table border=\"1\" class=\"dataframe\">\n",
       "  <thead>\n",
       "    <tr style=\"text-align: right;\">\n",
       "      <th></th>\n",
       "      <th>comment_text</th>\n",
       "      <th>toxic</th>\n",
       "    </tr>\n",
       "  </thead>\n",
       "  <tbody>\n",
       "    <tr>\n",
       "      <th>0</th>\n",
       "      <td>[explanation, why, the, edits, made, under, my...</td>\n",
       "      <td>0</td>\n",
       "    </tr>\n",
       "    <tr>\n",
       "      <th>1</th>\n",
       "      <td>[d'aww, he, matches, this, background, colour,...</td>\n",
       "      <td>0</td>\n",
       "    </tr>\n",
       "    <tr>\n",
       "      <th>2</th>\n",
       "      <td>[hey, man, i'm, really, not, trying, to, edit,...</td>\n",
       "      <td>0</td>\n",
       "    </tr>\n",
       "    <tr>\n",
       "      <th>3</th>\n",
       "      <td>[more, i, can't, make, any, real, suggestions,...</td>\n",
       "      <td>0</td>\n",
       "    </tr>\n",
       "    <tr>\n",
       "      <th>4</th>\n",
       "      <td>[you, sir, are, my, hero, any, chance, you, re...</td>\n",
       "      <td>0</td>\n",
       "    </tr>\n",
       "  </tbody>\n",
       "</table>\n",
       "</div>"
      ],
      "text/plain": [
       "                                        comment_text  toxic\n",
       "0  [explanation, why, the, edits, made, under, my...      0\n",
       "1  [d'aww, he, matches, this, background, colour,...      0\n",
       "2  [hey, man, i'm, really, not, trying, to, edit,...      0\n",
       "3  [more, i, can't, make, any, real, suggestions,...      0\n",
       "4  [you, sir, are, my, hero, any, chance, you, re...      0"
      ]
     },
     "execution_count": 28,
     "metadata": {},
     "output_type": "execute_result"
    }
   ],
   "source": [
    "\n",
    "\n",
    "#applying tokenization for the x_features\n",
    "tokenizer = RegexpTokenizer(\"[\\w']+\")\n",
    "new_data[\"comment_text\"]=new_data[\"comment_text\"].map(tokenizer.tokenize)\n",
    "\n",
    "\n",
    "new_data.head(5)"
   ]
  },
  {
   "cell_type": "code",
   "execution_count": 29,
   "id": "aba31a9e",
   "metadata": {
    "executionInfo": {
     "elapsed": 29,
     "status": "aborted",
     "timestamp": 1671191541949,
     "user": {
      "displayName": "wakalioa ndotch",
      "userId": "05739330914333704037"
     },
     "user_tz": 480
    },
    "id": "aba31a9e"
   },
   "outputs": [],
   "source": [
    "x=new_data[\"comment_text\"].astype(str)\n",
    "#applying tfTfidfVectorizer transformation\n",
    "y=new_data[\"toxic\"]\n",
    "vectrizer = TfidfVectorizer(analyzer='word',ngram_range=(1,3))\n",
    "x=vectrizer.fit_transform(x)\n",
    "\n"
   ]
  },
  {
   "cell_type": "code",
   "execution_count": 30,
   "id": "488a6179",
   "metadata": {
    "executionInfo": {
     "elapsed": 30,
     "status": "aborted",
     "timestamp": 1671191541950,
     "user": {
      "displayName": "wakalioa ndotch",
      "userId": "05739330914333704037"
     },
     "user_tz": 480
    },
    "id": "488a6179"
   },
   "outputs": [],
   "source": [
    "#transforming the imbalanced data to balanced\n",
    "from imblearn.over_sampling import SMOTE\n",
    "\n",
    "oversample = SMOTE()\n",
    "x,y= oversample.fit_resample(x,y)"
   ]
  },
  {
   "cell_type": "code",
   "execution_count": 31,
   "id": "dc3309e8",
   "metadata": {
    "executionInfo": {
     "elapsed": 31,
     "status": "aborted",
     "timestamp": 1671191541952,
     "user": {
      "displayName": "wakalioa ndotch",
      "userId": "05739330914333704037"
     },
     "user_tz": 480
    },
    "id": "dc3309e8"
   },
   "outputs": [],
   "source": [
    "x_train,x_test,y_train,y_test=train_test_split(x,y,test_size=0.5,random_state=42)"
   ]
  },
  {
   "cell_type": "code",
   "execution_count": 32,
   "id": "19b5589e",
   "metadata": {
    "executionInfo": {
     "elapsed": 32,
     "status": "aborted",
     "timestamp": 1671191541953,
     "user": {
      "displayName": "wakalioa ndotch",
      "userId": "05739330914333704037"
     },
     "user_tz": 480
    },
    "id": "19b5589e"
   },
   "outputs": [
    {
     "data": {
      "text/plain": [
       "SVC(kernel='linear')"
      ]
     },
     "execution_count": 32,
     "metadata": {},
     "output_type": "execute_result"
    }
   ],
   "source": [
    "model=svm.SVC(kernel=\"linear\")\n",
    "model.fit(x_train,y_train)"
   ]
  },
  {
   "cell_type": "code",
   "execution_count": 33,
   "id": "75bb2055",
   "metadata": {
    "executionInfo": {
     "elapsed": 32,
     "status": "aborted",
     "timestamp": 1671191541954,
     "user": {
      "displayName": "wakalioa ndotch",
      "userId": "05739330914333704037"
     },
     "user_tz": 480
    },
    "id": "75bb2055"
   },
   "outputs": [
    {
     "data": {
      "text/plain": [
       "0.9950027762354248"
      ]
     },
     "execution_count": 33,
     "metadata": {},
     "output_type": "execute_result"
    }
   ],
   "source": [
    "model.score(x_test,y_test)"
   ]
  },
  {
   "cell_type": "code",
   "execution_count": 34,
   "id": "eca6c046",
   "metadata": {
    "executionInfo": {
     "elapsed": 33,
     "status": "aborted",
     "timestamp": 1671191541955,
     "user": {
      "displayName": "wakalioa ndotch",
      "userId": "05739330914333704037"
     },
     "user_tz": 480
    },
    "id": "eca6c046"
   },
   "outputs": [
    {
     "name": "stdout",
     "output_type": "stream",
     "text": [
      "[1 1 1 ... 0 1 0]\n"
     ]
    }
   ],
   "source": [
    "pred=model.predict(x_test)\n",
    "print(pred)"
   ]
  },
  {
   "cell_type": "code",
   "execution_count": null,
   "id": "28d45d87",
   "metadata": {
    "executionInfo": {
     "elapsed": 35,
     "status": "aborted",
     "timestamp": 1671191541957,
     "user": {
      "displayName": "wakalioa ndotch",
      "userId": "05739330914333704037"
     },
     "user_tz": 480
    },
    "id": "28d45d87"
   },
   "outputs": [],
   "source": []
  },
  {
   "cell_type": "code",
   "execution_count": null,
   "id": "01d500dd",
   "metadata": {
    "executionInfo": {
     "elapsed": 37,
     "status": "aborted",
     "timestamp": 1671191541960,
     "user": {
      "displayName": "wakalioa ndotch",
      "userId": "05739330914333704037"
     },
     "user_tz": 480
    },
    "id": "01d500dd"
   },
   "outputs": [],
   "source": []
  },
  {
   "cell_type": "code",
   "execution_count": null,
   "id": "26b15c42",
   "metadata": {
    "executionInfo": {
     "elapsed": 39,
     "status": "aborted",
     "timestamp": 1671191541961,
     "user": {
      "displayName": "wakalioa ndotch",
      "userId": "05739330914333704037"
     },
     "user_tz": 480
    },
    "id": "26b15c42"
   },
   "outputs": [],
   "source": []
  },
  {
   "cell_type": "code",
   "execution_count": null,
   "id": "e1f6f843",
   "metadata": {
    "executionInfo": {
     "elapsed": 40,
     "status": "aborted",
     "timestamp": 1671191541963,
     "user": {
      "displayName": "wakalioa ndotch",
      "userId": "05739330914333704037"
     },
     "user_tz": 480
    },
    "id": "e1f6f843"
   },
   "outputs": [],
   "source": []
  },
  {
   "cell_type": "code",
   "execution_count": null,
   "id": "924e0987",
   "metadata": {
    "executionInfo": {
     "elapsed": 40,
     "status": "aborted",
     "timestamp": 1671191541964,
     "user": {
      "displayName": "wakalioa ndotch",
      "userId": "05739330914333704037"
     },
     "user_tz": 480
    },
    "id": "924e0987"
   },
   "outputs": [],
   "source": []
  },
  {
   "cell_type": "code",
   "execution_count": null,
   "id": "86bae717",
   "metadata": {
    "executionInfo": {
     "elapsed": 41,
     "status": "aborted",
     "timestamp": 1671191541965,
     "user": {
      "displayName": "wakalioa ndotch",
      "userId": "05739330914333704037"
     },
     "user_tz": 480
    },
    "id": "86bae717"
   },
   "outputs": [],
   "source": []
  },
  {
   "cell_type": "code",
   "execution_count": null,
   "id": "e338b4e6",
   "metadata": {
    "executionInfo": {
     "elapsed": 42,
     "status": "aborted",
     "timestamp": 1671191541966,
     "user": {
      "displayName": "wakalioa ndotch",
      "userId": "05739330914333704037"
     },
     "user_tz": 480
    },
    "id": "e338b4e6"
   },
   "outputs": [],
   "source": []
  }
 ],
 "metadata": {
  "colab": {
   "provenance": []
  },
  "kernelspec": {
   "display_name": "Python 3 (ipykernel)",
   "language": "python",
   "name": "python3"
  },
  "language_info": {
   "codemirror_mode": {
    "name": "ipython",
    "version": 3
   },
   "file_extension": ".py",
   "mimetype": "text/x-python",
   "name": "python",
   "nbconvert_exporter": "python",
   "pygments_lexer": "ipython3",
   "version": "3.9.12"
  }
 },
 "nbformat": 4,
 "nbformat_minor": 5
}
